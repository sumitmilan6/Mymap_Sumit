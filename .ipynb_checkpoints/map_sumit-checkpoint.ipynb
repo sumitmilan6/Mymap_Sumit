{
 "cells": [
  {
   "cell_type": "markdown",
   "metadata": {},
   "source": [
    "https://towardsdatascience.com/creating-interactive-maps-for-instagram-with-python-and-folium-68bc4691d075"
   ]
  },
  {
   "cell_type": "code",
   "execution_count": 9,
   "metadata": {
    "scrolled": true
   },
   "outputs": [],
   "source": [
    "import folium\n",
    "import json\n",
    "from shapely.geometry import shape, Point\n",
    "from bs4 import BeautifulSoup\n",
    "from folium.plugins import LocateControl, MarkerCluster"
   ]
  },
  {
   "cell_type": "code",
   "execution_count": 10,
   "metadata": {},
   "outputs": [],
   "source": [
    "# Create the map\n",
    "MyMap = folium.Map(location=[52.51685, 13.320943], \n",
    "                   tiles='OpenStreetMap', \n",
    "                   zoom_start=4, \n",
    "                   max_zoom=19, \n",
    "                   control_scale=True)\n",
    "\n",
    "#location, coordinates of the centre of the map\n",
    "#tiles, open source map tiles Open street map (OSM)\n",
    "# contro scale, adds a scale bar\n",
    "\n",
    "\n",
    "# Save the map\n",
    "MyMap.save('MyMap.html')"
   ]
  },
  {
   "cell_type": "code",
   "execution_count": 11,
   "metadata": {},
   "outputs": [],
   "source": [
    "# Create custom beer glass icon for map markers\n",
    "LOC_icon_img = 'icon.png'\n",
    "\n",
    "# Load in Oxford City Boundary json and create a Shapely 'shape' geometry from it.\n",
    "#with open('./Images/Oxford City Boundary.json', 'r') as file:\n",
    "#    oxford_json = json.load(file)\n",
    "#oxford_boundary = shape(oxford_json['features'][0]['geometry'])\n",
    "\n",
    "# Create marker cluster to help define cluster of Oxford pubs. Cluster will separate into individual markers at zoom level 13.\n",
    "#oxford_cluster = MarkerCluster(options={'showCoverageOnHover': False,\n",
    "#                                        'zoomToBoundsOnClick': True,\n",
    "#                                        'spiderfyOnMaxZoom': False,\n",
    "#                                        'disableClusteringAtZoom': 13})"
   ]
  },
  {
   "cell_type": "code",
   "execution_count": 12,
   "metadata": {},
   "outputs": [],
   "source": [
    "places_visited = {'Prague': [(50.0755, 14.4378), 'https://www.instagram.com/p/B3Lb7rdo_R-/'],\n",
    "                  'Barcelona': [(41.3874, 2.1686), 'https://www.instagram.com/p/B0nbE1VirV9/'],\n",
    "                  'Paris': [(48.8566, 2.3522), 'https://www.instagram.com/p/Bzn_IrACfbM/'],\n",
    "                  'Brussels': [(50.8476, 4.3572), 'https://www.instagram.com/p/ByoSKaNiYW7/'],\n",
    "                  'Antwerp': [(51.2213, 4.4051), 'https://www.instagram.com/p/BxuOZi6C02Z/'],\n",
    "                  'Amsterdam': [(52.3676, 4.9041), 'https://www.instagram.com/p/Bv6xtzegLJD/'],\n",
    "                  'Zittau': [(50, 14.803), 'https://www.instagram.com/p/Bstc4ONAa7v/']}\n"
   ]
  },
  {
   "cell_type": "code",
   "execution_count": 13,
   "metadata": {},
   "outputs": [],
   "source": [
    "# Create markers for each pub in the pub dictionary\n",
    "for plac, details in places_visited.items():\n",
    "    # Define marker variables\n",
    "    name = plac\n",
    "    coordinates = details[0]\n",
    "    insta_post = details[1]\n",
    "    #website = details[2]\n",
    "    #directions = details[3]\n",
    "\n",
    "    # Create custom icon with beer glass image\n",
    "    custom_icon = folium.CustomIcon(LOC_icon_img, icon_size=(35, 35), popup_anchor=(0, -22))\n",
    "    # Define html inside marker pop-up\n",
    "    pub_html = folium.Html(f\"\"\"<p style=\"text-align: center;\"><span style=\"font-family: Didot, serif; font-size: 21px;\">{name}</span></p>\n",
    "    <p style=\"text-align: center;\"><iframe src={insta_post}embed width=\"240\" height=\"290\" frameborder=\"0\" scrolling=\"auto\" allowtransparency=\"true\"></iframe>\n",
    "    \"\"\", script=True)\n",
    "    # Create pop-up with html content\n",
    "    popup = folium.Popup(pub_html, max_width=700)\n",
    "    # Create marker with custom icon and pop-up.\n",
    "    custom_marker = folium.Marker(location=coordinates, icon=custom_icon, tooltip=name, popup=popup)\n",
    "    \n",
    "    # If pub is within Oxford boundary, add to Oxford marker cluster\n",
    "    #if oxford_boundary.contains(Point((coordinates[1], coordinates[0]))):\n",
    "    #    custom_marker.add_to(oxford_cluster)\n",
    "    #else:\n",
    "    #    # Else add marker to map\n",
    "    custom_marker.add_to(MyMap)\n",
    "\n",
    "# Add oxford cluster to the map\n",
    "#oxford_cluster.add_to(MyMap)\n",
    "\n",
    "# Enable geolocation button on map.\n",
    "LocateControl(auto_start=False).add_to(MyMap)\n",
    "\n",
    "# Define webpage title html and add to script.\n",
    "tab_title = \"\"\"<title>My places Maps</title>\"\"\"\n",
    "MyMap.get_root().html.add_child(folium.Element(tab_title))\n",
    "\n",
    "# Save map to HTML\n",
    "MyMap.save('MyMap.html')"
   ]
  },
  {
   "cell_type": "code",
   "execution_count": null,
   "metadata": {},
   "outputs": [],
   "source": []
  }
 ],
 "metadata": {
  "kernelspec": {
   "display_name": "Python 3",
   "language": "python",
   "name": "python3"
  },
  "language_info": {
   "codemirror_mode": {
    "name": "ipython",
    "version": 3
   },
   "file_extension": ".py",
   "mimetype": "text/x-python",
   "name": "python",
   "nbconvert_exporter": "python",
   "pygments_lexer": "ipython3",
   "version": "3.7.7"
  }
 },
 "nbformat": 4,
 "nbformat_minor": 5
}
