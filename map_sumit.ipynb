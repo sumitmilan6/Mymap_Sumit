{
 "cells": [
  {
   "cell_type": "markdown",
   "metadata": {},
   "source": [
    "https://towardsdatascience.com/creating-interactive-maps-for-instagram-with-python-and-folium-68bc4691d075"
   ]
  },
  {
   "cell_type": "code",
   "execution_count": 7,
   "metadata": {},
   "outputs": [],
   "source": [
    "import folium\n",
    "import pandas as pd\n",
    "import json\n",
    "from shapely.geometry import shape, Point\n",
    "from bs4 import BeautifulSoup\n",
    "from folium.plugins import LocateControl, MarkerCluster"
   ]
  },
  {
   "cell_type": "code",
   "execution_count": 17,
   "metadata": {},
   "outputs": [],
   "source": [
    "# Create the map\n",
    "MyMap = folium.Map(location=[52.51685, 13.320943], \n",
    "                   tiles='Stamen Terrain', \n",
    "                   zoom_start=4, \n",
    "                   max_zoom=19, \n",
    "                   control_scale=True)\n",
    "\n",
    "#location, coordinates of the centre of the map\n",
    "#tiles, open source map tiles Open street map (OSM)\n",
    "## https://leaflet-extras.github.io/leaflet-providers/preview/\n",
    "# contro scale, adds a scale bar\n",
    "\n",
    "\n",
    "# Save the map\n",
    "MyMap.save('MyMap.html')"
   ]
  },
  {
   "cell_type": "code",
   "execution_count": 18,
   "metadata": {},
   "outputs": [],
   "source": [
    "# Create custom beer glass icon for map markers\n",
    "LOC_icon_img = 'icon.png'\n",
    "\n",
    "# Load in Oxford City Boundary json and create a Shapely 'shape' geometry from it.\n",
    "#with open('./Images/Oxford City Boundary.json', 'r') as file:\n",
    "#    oxford_json = json.load(file)\n",
    "#oxford_boundary = shape(oxford_json['features'][0]['geometry'])\n",
    "\n",
    "# Create marker cluster to help define cluster of Oxford pubs. Cluster will separate into individual markers at zoom level 13.\n",
    "#oxford_cluster = MarkerCluster(options={'showCoverageOnHover': False,\n",
    "#                                        'zoomToBoundsOnClick': True,\n",
    "#                                        'spiderfyOnMaxZoom': False,\n",
    "#                                        'disableClusteringAtZoom': 13})"
   ]
  },
  {
   "cell_type": "code",
   "execution_count": 19,
   "metadata": {
    "scrolled": true
   },
   "outputs": [
    {
     "name": "stdout",
     "output_type": "stream",
     "text": [
      "City                                  Mt. Etna  \\\n",
      "0     https://www.instagram.com/p/B26ZzpUCZk4/   \n",
      "1                            (37.751, 14.9934)   \n",
      "\n",
      "City                                      Doha  \\\n",
      "0     https://www.instagram.com/p/B5oX9rNAf8K/   \n",
      "1                            (25.2854, 51.531)   \n",
      "\n",
      "City                                  Salzburg  \\\n",
      "0     https://www.instagram.com/p/B6Abjc2gpNv/   \n",
      "1                            (47.8095, 13.055)   \n",
      "\n",
      "City                                  Chemnitz  \\\n",
      "0     https://www.instagram.com/p/B7RTsYiiQwp/   \n",
      "1                           (50.8357, 12.9292)   \n",
      "\n",
      "City                                 Tegernsee  \\\n",
      "0     https://www.instagram.com/p/B9cSEwBni4c/   \n",
      "1                           (47.7051, 11.7647)   \n",
      "\n",
      "City                                    Athens  \\\n",
      "0     https://www.instagram.com/p/Ba1QQpSFgru/   \n",
      "1                           (37.9838, 23.7275)   \n",
      "\n",
      "City                                 Santorini  \\\n",
      "0     https://www.instagram.com/p/Ba3AsnVFAjI/   \n",
      "1                           (36.3932, 25.4615)   \n",
      "\n",
      "City                                    Bastei  \\\n",
      "0     https://www.instagram.com/p/BAx3C0lIJao/   \n",
      "1                           (50.9573, 14.0694)   \n",
      "\n",
      "City                                 Frankfurt  \\\n",
      "0     https://www.instagram.com/p/BbhT-eKlws0/   \n",
      "1                            (50.1109, 8.6821)   \n",
      "\n",
      "City                                 Barcelona  ...  \\\n",
      "0     https://www.instagram.com/p/BC1NQIcoJd-/  ...   \n",
      "1                            (41.3874, 2.1686)  ...   \n",
      "\n",
      "City                                    Amsterdam  \\\n",
      "0     https://www.instagram.com/reel/CUhd_D3Aws5/   \n",
      "1                               (52.3676, 4.9041)   \n",
      "\n",
      "City                                     Brussels  \\\n",
      "0     https://www.instagram.com/reel/CUsSt70qLcH/   \n",
      "1                               (50.8476, 4.3572)   \n",
      "\n",
      "City                                      Mykonos  \\\n",
      "0     https://www.instagram.com/reel/CUU0Y70qhTF/   \n",
      "1                              (37.4452, 25.3287)   \n",
      "\n",
      "City                                        Crete  \\\n",
      "0     https://www.instagram.com/reel/CUUyp4ZqJAa/   \n",
      "1                              (35.3278, 25.1434)   \n",
      "\n",
      "City                                      Tallinn  \\\n",
      "0     https://www.instagram.com/reel/CX07-eHhtdK/   \n",
      "1                               (59.437, 24.7536)   \n",
      "\n",
      "City                                     Budapest  \\\n",
      "0     https://www.instagram.com/reel/CX08v2khFzz/   \n",
      "1                              (47.4979, 19.0402)   \n",
      "\n",
      "City                                       Rhodes  \\\n",
      "0     https://www.instagram.com/reel/CXvsCNdKhKc/   \n",
      "1                              (36.4408, 28.2225)   \n",
      "\n",
      "City                                      Wroclaw  \\\n",
      "0     https://www.instagram.com/reel/CXw2EIGKQVm/   \n",
      "1                              (51.1079, 17.0385)   \n",
      "\n",
      "City                                   Rheinfall   \\\n",
      "0     https://www.instagram.com/reel/CXzgFYvhG6V/   \n",
      "1                    (47.678000000000004, 8.6156)   \n",
      "\n",
      "City                                        Paris  \n",
      "0     https://www.instagram.com/reel/CYlZ4BphkVv/  \n",
      "1                               (48.8566, 2.3522)  \n",
      "\n",
      "[2 rows x 116 columns]\n"
     ]
    }
   ],
   "source": [
    "df = pd.read_csv(r'visited.csv', index_col=0, encoding='windows-1252')\n",
    "df[\"Coordinates\"]= df.apply(lambda row: (row.lat, row.long), axis=1)  #Create coordinates list\n",
    "df = df.drop(columns=[\"Country\", \"lat\",\"long\"]).T\n",
    "df.reset_index(drop=True, inplace=True)\n",
    "print (df)"
   ]
  },
  {
   "cell_type": "code",
   "execution_count": 20,
   "metadata": {
    "scrolled": true
   },
   "outputs": [],
   "source": [
    "places_visited_2= df.to_dict()"
   ]
  },
  {
   "cell_type": "code",
   "execution_count": 21,
   "metadata": {},
   "outputs": [],
   "source": [
    "# Create markers for each pub in the pub dictionary\n",
    "for plac, details in places_visited_2.items():\n",
    "    # Define marker variables\n",
    "    name = plac\n",
    "    coordinates = details[1]\n",
    "    insta_post = details[0]\n",
    "    #website = details[2]\n",
    "    #directions = details[3]\n",
    "\n",
    "    # Create custom icon with beer glass image\n",
    "    custom_icon = folium.CustomIcon(LOC_icon_img, icon_size=(35, 35), popup_anchor=(0, -22))\n",
    "    # Define html inside marker pop-up\n",
    "    pub_html = folium.Html(f\"\"\"<p style=\"text-align: center;\"><span style=\"font-family: Didot, serif; font-size: 21px;\">{name}</span></p>\n",
    "    <p style=\"text-align: center;\"><iframe src={insta_post}embed width=\"240\" height=\"290\" frameborder=\"0\" scrolling=\"auto\" allowtransparency=\"true\"></iframe>\n",
    "    \"\"\", script=True)\n",
    "    # Create pop-up with html content\n",
    "    popup = folium.Popup(pub_html, max_width=700)\n",
    "    # Create marker with custom icon and pop-up.\n",
    "    custom_marker = folium.Marker(location=coordinates, icon=custom_icon, tooltip=name, popup=popup)\n",
    "    \n",
    "    # If pub is within Oxford boundary, add to Oxford marker cluster\n",
    "    #if oxford_boundary.contains(Point((coordinates[1], coordinates[0]))):\n",
    "    #    custom_marker.add_to(oxford_cluster)\n",
    "    #else:\n",
    "    #    # Else add marker to map\n",
    "    custom_marker.add_to(MyMap)\n",
    "\n",
    "# Add oxford cluster to the map\n",
    "#oxford_cluster.add_to(MyMap)\n",
    "\n",
    "# Enable geolocation button on map.\n",
    "LocateControl(auto_start=False).add_to(MyMap)\n",
    "\n",
    "# Define webpage title html and add to script.\n",
    "tab_title = \"\"\"<title>My places Maps</title>\"\"\"\n",
    "MyMap.get_root().html.add_child(folium.Element(tab_title))\n",
    "\n",
    "# Save map to HTML\n",
    "MyMap.save('MyMap.html')"
   ]
  },
  {
   "cell_type": "code",
   "execution_count": null,
   "metadata": {},
   "outputs": [],
   "source": []
  },
  {
   "cell_type": "code",
   "execution_count": null,
   "metadata": {},
   "outputs": [],
   "source": []
  }
 ],
 "metadata": {
  "kernelspec": {
   "display_name": "Python 3",
   "language": "python",
   "name": "python3"
  },
  "language_info": {
   "codemirror_mode": {
    "name": "ipython",
    "version": 3
   },
   "file_extension": ".py",
   "mimetype": "text/x-python",
   "name": "python",
   "nbconvert_exporter": "python",
   "pygments_lexer": "ipython3",
   "version": "3.7.7"
  }
 },
 "nbformat": 4,
 "nbformat_minor": 5
}
